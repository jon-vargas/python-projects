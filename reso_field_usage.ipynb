{
 "cells": [
  {
   "cell_type": "code",
   "execution_count": 13,
   "metadata": {},
   "outputs": [],
   "source": [
    "import pandas as pd\n",
    "import requests\n",
    "from bs4 import BeautifulSoup\n",
    "from selenium import webdriver\n",
    "from selenium.webdriver.common.by import By\n",
    "import time\n",
    "\n",
    "options = webdriver.ChromeOptions()\n",
    "options.add_argument(\"--headless=new\")\n",
    "\n",
    "driver = webdriver.Chrome(options=options)\n",
    "\n",
    "df = pd.DataFrame(columns = ['Field', 'System Usage (%)', 'Org Usage (%)', 'Resource'])\n",
    "# df = pd.DataFrame(columns = ['Field', 'System Usage (%)', 'Org Usage (%)', 'Resource', 'Group'])\n",
    "\n",
    "# Open the URL\n",
    "url = 'https://ddwiki.reso.org/display/DDW17/Property+Resource'\n",
    "driver.get(url)\n",
    "\n",
    "# identify elements with tagname <a>\n",
    "links = driver.find_elements(By.TAG_NAME, \"a\")\n",
    "\n",
    "all_href = []\n",
    "\n",
    "# traverse list\n",
    "for lnk in links:\n",
    "   # get_attribute() to get all href\n",
    "   all_href.append(lnk.get_attribute('href'))"
   ]
  },
  {
   "cell_type": "code",
   "execution_count": null,
   "metadata": {},
   "outputs": [],
   "source": [
    "split_links = [i.split('?', 1)[0] for i in all_href]\n",
    "field_links = [j for j in split_links if '+Field' in j]\n",
    "\n",
    "# print(field_links) "
   ]
  },
  {
   "cell_type": "code",
   "execution_count": 14,
   "metadata": {},
   "outputs": [
    {
     "name": "stdout",
     "output_type": "stream",
     "text": [
      "                      Field         System Usage (%)  \\\n",
      "0           PropertySubType   88% of Systems (14/16)   \n",
      "1              PropertyType  100% of Systems (16/16)   \n",
      "2       UniversalPropertyId    12% of Systems (2/16)   \n",
      "3    UniversalPropertySubId     6% of Systems (1/16)   \n",
      "4              BusinessName   69% of Systems (11/16)   \n",
      "..                      ...                      ...   \n",
      "612         PowerProduction    <1% of Systems (0/16)   \n",
      "613     PowerProductionType    31% of Systems (5/16)   \n",
      "614                   Sewer   88% of Systems (14/16)   \n",
      "615               Utilities   88% of Systems (14/16)   \n",
      "616             WaterSource   81% of Systems (13/16)   \n",
      "\n",
      "                      Org Usage (%)           Resource  \n",
      "0    92% of Organizations (452/491)  Property Resource  \n",
      "1    98% of Organizations (480/491)  Property Resource  \n",
      "2      <1% of Organizations (2/491)  Property Resource  \n",
      "3      <1% of Organizations (1/491)  Property Resource  \n",
      "4    28% of Organizations (137/491)  Property Resource  \n",
      "..                              ...                ...  \n",
      "612    <1% of Organizations (0/491)  Property Resource  \n",
      "613    4% of Organizations (20/491)  Property Resource  \n",
      "614  85% of Organizations (419/491)  Property Resource  \n",
      "615  85% of Organizations (416/491)  Property Resource  \n",
      "616  85% of Organizations (415/491)  Property Resource  \n",
      "\n",
      "[617 rows x 4 columns]\n"
     ]
    }
   ],
   "source": [
    "for lnk in field_links:\n",
    "    page = requests.get(lnk)\n",
    "    soup = BeautifulSoup(page.text, 'html')\n",
    "    inner_cell_elements = soup.find_all('div', class_='innerCell')\n",
    "\n",
    "    field_name = soup.find('title').text.strip().split(' ')[0]\n",
    "\n",
    "    crumbs = soup.find_all('ol', id='breadcrumbs')\n",
    "\n",
    "    for a in crumbs:\n",
    "        a_tag = a.find_all('a')\n",
    "        a_text = [txt.text.strip() for txt in a_tag]\n",
    "\n",
    "    if len(a_text) < 3:\n",
    "        a_text.insert(3, 'null')\n",
    "\n",
    "    for li in inner_cell_elements[6:7]:\n",
    "        li_tag = li.find_all('li')\n",
    "        li_text = [data.text.strip() for data in li_tag[0:2]]\n",
    "\n",
    "    df.loc[len(df.index)] = [field_name, li_text[0], li_text[1], a_text[2]]\n",
    "\n",
    "print(df)"
   ]
  },
  {
   "cell_type": "code",
   "execution_count": 21,
   "metadata": {},
   "outputs": [],
   "source": [
    "df['Resource'].replace(' Resource','', regex=True, inplace=True)\n",
    "df.replace({'(?<=%).*': ''}, regex=True, inplace=True)\n",
    "df = df[~df['System Usage (%)'].str.contains(\"[a-zA-Z]\").fillna(False)]\n",
    "\n",
    "df.to_csv('../RESO Scraper/reso_field_usage.csv')"
   ]
  }
 ],
 "metadata": {
  "kernelspec": {
   "display_name": "base",
   "language": "python",
   "name": "python3"
  },
  "language_info": {
   "codemirror_mode": {
    "name": "ipython",
    "version": 3
   },
   "file_extension": ".py",
   "mimetype": "text/x-python",
   "name": "python",
   "nbconvert_exporter": "python",
   "pygments_lexer": "ipython3",
   "version": "3.11.4"
  },
  "orig_nbformat": 4
 },
 "nbformat": 4,
 "nbformat_minor": 2
}
