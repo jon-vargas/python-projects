{
 "cells": [
  {
   "cell_type": "markdown",
   "metadata": {},
   "source": [
    "# **RESO Field Usage Statistics**\n",
    "\n",
    "<p> I was curious to extra usage trends of fields using the aggregated statistics on the RESO Dictionary website. Each RESO field is a separate page and contains a Usage section at the bottom with percentages of how much each field is used across the industry - they're separated by usage of Systems and Organizations. In order to extract this data, I'd need to aggregate all the links for the RESO field pages and then extract the percentages from the Usage section of each page. <p>\n",
    "\n",
    "<p> The pages are dynamically generated HTML and that provides some issues when scraping the site to retrieve the list of all the page links. I'd also like to include which Group the field belongs to, current issue is that some fields do not belong to a Group and the script returns an error when attempting to extract that HTML element. The script works properly as it currenly is, however there are some improvements (included below) that I have in mind to better scrape the data. Will upload these in later versions <p>\n",
    "\n",
    "### To Do\n",
    "- Include some wait and timeouts. Script doesn't retrieve all the links every time, I think this is due to not enough time to load the HTML content successfully. \n",
    "- Add ability to retrieve the Group for each field and give an Unassigned Group name to those fields causing issues that don't have a group. \n",
    "- Update code to traverse the page tree on the side to extract all the links from all resources. Page tree is dynamically generated and will likely need a large overhaul to the code"
   ]
  },
  {
   "cell_type": "code",
   "execution_count": 2,
   "metadata": {},
   "outputs": [],
   "source": [
    "import pandas as pd\n",
    "import requests\n",
    "from bs4 import BeautifulSoup\n",
    "from selenium import webdriver\n",
    "from selenium.webdriver.common.by import By\n",
    "import time\n",
    "\n",
    "options = webdriver.ChromeOptions()\n",
    "options.add_argument(\"--headless=new\")\n",
    "\n",
    "driver = webdriver.Chrome(options=options)\n",
    "\n",
    "df = pd.DataFrame(columns = ['Field', 'System Usage (%)', 'Org Usage (%)', 'Resource'])\n",
    "# df = pd.DataFrame(columns = ['Field', 'System Usage (%)', 'Org Usage (%)', 'Resource', 'Group'])\n",
    "\n",
    "# Open the URL\n",
    "url = 'https://ddwiki.reso.org/display/DDW17/Property+Resource'\n",
    "driver.get(url)\n",
    "\n",
    "# identify elements with tagname <a>\n",
    "links = driver.find_elements(By.TAG_NAME, \"a\")\n",
    "\n",
    "all_href = []\n",
    "\n",
    "# traverse list\n",
    "for lnk in links:\n",
    "   # get_attribute() to get all href\n",
    "   all_href.append(lnk.get_attribute('href'))"
   ]
  },
  {
   "cell_type": "code",
   "execution_count": 3,
   "metadata": {},
   "outputs": [
    {
     "name": "stdout",
     "output_type": "stream",
     "text": [
      "['https://ddwiki.reso.org/display/DDW17/BusinessName+Field', 'https://ddwiki.reso.org/display/DDW17/BusinessType+Field', 'https://ddwiki.reso.org/display/DDW17/HoursDaysOfOperationDescription+Field', 'https://ddwiki.reso.org/display/DDW17/HoursDaysOfOperation+Field', 'https://ddwiki.reso.org/display/DDW17/LaborInformation+Field', 'https://ddwiki.reso.org/display/DDW17/LeaseAmount+Field', 'https://ddwiki.reso.org/display/DDW17/LeaseAmountFrequency+Field', 'https://ddwiki.reso.org/display/DDW17/LeaseAssignableYN+Field', 'https://ddwiki.reso.org/display/DDW17/LeaseExpiration+Field', 'https://ddwiki.reso.org/display/DDW17/LeaseRenewalOptionYN+Field', 'https://ddwiki.reso.org/display/DDW17/NumberOfFullTimeEmployees+Field', 'https://ddwiki.reso.org/display/DDW17/NumberOfPartTimeEmployees+Field', 'https://ddwiki.reso.org/display/DDW17/OwnershipType+Field', 'https://ddwiki.reso.org/display/DDW17/SeatingCapacity+Field', 'https://ddwiki.reso.org/display/DDW17/SpecialLicenses+Field', 'https://ddwiki.reso.org/display/DDW17/YearEstablished+Field', 'https://ddwiki.reso.org/display/DDW17/YearsCurrentOwner+Field', 'https://ddwiki.reso.org/display/DDW17/AnchorsCoTenants+Field', 'https://ddwiki.reso.org/display/DDW17/CommunityFeatures+Field', 'https://ddwiki.reso.org/display/DDW17/CurrentUse+Field', 'https://ddwiki.reso.org/display/DDW17/DevelopmentStatus+Field', 'https://ddwiki.reso.org/display/DDW17/Fencing+Field', 'https://ddwiki.reso.org/display/DDW17/FrontageLength+Field', 'https://ddwiki.reso.org/display/DDW17/FrontageType+Field', 'https://ddwiki.reso.org/display/DDW17/Furnished+Field', 'https://ddwiki.reso.org/display/DDW17/HorseAmenities+Field', 'https://ddwiki.reso.org/display/DDW17/HorseYN+Field', 'https://ddwiki.reso.org/display/DDW17/LandLeaseAmount+Field', 'https://ddwiki.reso.org/display/DDW17/LandLeaseAmountFrequency+Field', 'https://ddwiki.reso.org/display/DDW17/LandLeaseExpirationDate+Field', 'https://ddwiki.reso.org/display/DDW17/LandLeaseYN+Field', 'https://ddwiki.reso.org/display/DDW17/LaundryFeatures+Field', 'https://ddwiki.reso.org/display/DDW17/LeaseTerm+Field', 'https://ddwiki.reso.org/display/DDW17/LotDimensionsSource+Field', 'https://ddwiki.reso.org/display/DDW17/LotFeatures+Field', 'https://ddwiki.reso.org/display/DDW17/LotSizeAcres+Field', 'https://ddwiki.reso.org/display/DDW17/LotSizeArea+Field', 'https://ddwiki.reso.org/display/DDW17/LotSizeDimensions+Field', 'https://ddwiki.reso.org/display/DDW17/LotSizeSource+Field', 'https://ddwiki.reso.org/display/DDW17/LotSizeSquareFeet+Field', 'https://ddwiki.reso.org/display/DDW17/LotSizeUnits+Field', 'https://ddwiki.reso.org/display/DDW17/MobileHomeRemainsYN+Field', 'https://ddwiki.reso.org/display/DDW17/NumberOfBuildings+Field', 'https://ddwiki.reso.org/display/DDW17/NumberOfLots+Field', 'https://ddwiki.reso.org/display/DDW17/NumberOfPads+Field', 'https://ddwiki.reso.org/display/DDW17/NumberOfUnitsInCommunity+Field', 'https://ddwiki.reso.org/display/DDW17/NumberOfUnitsTotal+Field', 'https://ddwiki.reso.org/display/DDW17/ParkManagerName+Field', 'https://ddwiki.reso.org/display/DDW17/ParkManagerPhone+Field', 'https://ddwiki.reso.org/display/DDW17/ParkName+Field', 'https://ddwiki.reso.org/display/DDW17/PoolFeatures+Field', 'https://ddwiki.reso.org/display/DDW17/PoolPrivateYN+Field', 'https://ddwiki.reso.org/display/DDW17/PossibleUse+Field', 'https://ddwiki.reso.org/display/DDW17/RoadFrontageType+Field', 'https://ddwiki.reso.org/display/DDW17/RoadResponsibility+Field', 'https://ddwiki.reso.org/display/DDW17/RoadSurfaceType+Field', 'https://ddwiki.reso.org/display/DDW17/SeniorCommunityYN+Field', 'https://ddwiki.reso.org/display/DDW17/SpaFeatures+Field', 'https://ddwiki.reso.org/display/DDW17/SpaYN+Field', 'https://ddwiki.reso.org/display/DDW17/Topography+Field', 'https://ddwiki.reso.org/display/DDW17/UnitsFurnished+Field', 'https://ddwiki.reso.org/display/DDW17/View+Field', 'https://ddwiki.reso.org/display/DDW17/ViewYN+Field', 'https://ddwiki.reso.org/display/DDW17/WaterBodyName+Field', 'https://ddwiki.reso.org/display/DDW17/WaterfrontFeatures+Field', 'https://ddwiki.reso.org/display/DDW17/WaterfrontYN+Field', 'https://ddwiki.reso.org/display/DDW17/Appliances+Field', 'https://ddwiki.reso.org/display/DDW17/OtherEquipment+Field', 'https://ddwiki.reso.org/display/DDW17/SecurityFeatures+Field', 'https://ddwiki.reso.org/display/DDW17/CropsIncludedYN+Field', 'https://ddwiki.reso.org/display/DDW17/CultivatedArea+Field', 'https://ddwiki.reso.org/display/DDW17/FarmCreditServiceInclYN+Field', 'https://ddwiki.reso.org/display/DDW17/FarmLandAreaSource+Field', 'https://ddwiki.reso.org/display/DDW17/FarmLandAreaUnits+Field', 'https://ddwiki.reso.org/display/DDW17/GrazingPermitsBlmYN+Field', 'https://ddwiki.reso.org/display/DDW17/GrazingPermitsForestServiceYN+Field', 'https://ddwiki.reso.org/display/DDW17/GrazingPermitsPrivateYN+Field', 'https://ddwiki.reso.org/display/DDW17/PastureArea+Field', 'https://ddwiki.reso.org/display/DDW17/RangeArea+Field', 'https://ddwiki.reso.org/display/DDW17/Vegetation+Field', 'https://ddwiki.reso.org/display/DDW17/WoodedArea+Field', 'https://ddwiki.reso.org/display/DDW17/CableTvExpense+Field', 'https://ddwiki.reso.org/display/DDW17/CapRate+Field', 'https://ddwiki.reso.org/display/DDW17/ElectricExpense+Field', 'https://ddwiki.reso.org/display/DDW17/ExistingLeaseType+Field', 'https://ddwiki.reso.org/display/DDW17/FinancialDataSource+Field', 'https://ddwiki.reso.org/display/DDW17/FuelExpense+Field', 'https://ddwiki.reso.org/display/DDW17/FurnitureReplacementExpense+Field', 'https://ddwiki.reso.org/display/DDW17/GardenerExpense+Field', 'https://ddwiki.reso.org/display/DDW17/GrossIncome+Field', 'https://ddwiki.reso.org/display/DDW17/GrossScheduledIncome+Field', 'https://ddwiki.reso.org/display/DDW17/IncomeIncludes+Field', 'https://ddwiki.reso.org/display/DDW17/InsuranceExpense+Field', 'https://ddwiki.reso.org/display/DDW17/LicensesExpense+Field', 'https://ddwiki.reso.org/display/DDW17/MaintenanceExpense+Field', 'https://ddwiki.reso.org/display/DDW17/ManagerExpense+Field', 'https://ddwiki.reso.org/display/DDW17/NetOperatingIncome+Field', 'https://ddwiki.reso.org/display/DDW17/NewTaxesExpense+Field', 'https://ddwiki.reso.org/display/DDW17/NumberOfUnitsLeased+Field', 'https://ddwiki.reso.org/display/DDW17/NumberOfUnitsMoMo+Field', 'https://ddwiki.reso.org/display/DDW17/NumberOfUnitsVacant+Field', 'https://ddwiki.reso.org/display/DDW17/OperatingExpense+Field', 'https://ddwiki.reso.org/display/DDW17/OperatingExpenseIncludes+Field', 'https://ddwiki.reso.org/display/DDW17/OtherExpense+Field', 'https://ddwiki.reso.org/display/DDW17/OwnerPays+Field', 'https://ddwiki.reso.org/display/DDW17/PestControlExpense+Field', 'https://ddwiki.reso.org/display/DDW17/PoolExpense+Field', 'https://ddwiki.reso.org/display/DDW17/ProfessionalManagementExpense+Field', 'https://ddwiki.reso.org/display/DDW17/RentControlYN+Field', 'https://ddwiki.reso.org/display/DDW17/RentIncludes+Field', 'https://ddwiki.reso.org/display/DDW17/SuppliesExpense+Field', 'https://ddwiki.reso.org/display/DDW17/TenantPays+Field', 'https://ddwiki.reso.org/display/DDW17/TotalActualRent+Field', 'https://ddwiki.reso.org/display/DDW17/TrashExpense+Field', 'https://ddwiki.reso.org/display/DDW17/VacancyAllowance+Field', 'https://ddwiki.reso.org/display/DDW17/VacancyAllowanceRate+Field', 'https://ddwiki.reso.org/display/DDW17/WaterSewerExpense+Field', 'https://ddwiki.reso.org/display/DDW17/WorkmansCompensationExpense+Field', 'https://ddwiki.reso.org/display/DDW17/AssociationAmenities+Field', 'https://ddwiki.reso.org/display/DDW17/AssociationFee2+Field', 'https://ddwiki.reso.org/display/DDW17/AssociationFee2Frequency+Field', 'https://ddwiki.reso.org/display/DDW17/AssociationFee+Field', 'https://ddwiki.reso.org/display/DDW17/AssociationFeeFrequency+Field', 'https://ddwiki.reso.org/display/DDW17/AssociationFeeIncludes+Field', 'https://ddwiki.reso.org/display/DDW17/AssociationName2+Field', 'https://ddwiki.reso.org/display/DDW17/AssociationName+Field', 'https://ddwiki.reso.org/display/DDW17/AssociationPhone2+Field', 'https://ddwiki.reso.org/display/DDW17/AssociationPhone+Field', 'https://ddwiki.reso.org/display/DDW17/AssociationYN+Field', 'https://ddwiki.reso.org/display/DDW17/PetsAllowed+Field', 'https://ddwiki.reso.org/display/DDW17/BuyerAgentAOR+Field', 'https://ddwiki.reso.org/display/DDW17/BuyerAgentDesignation+Field', 'https://ddwiki.reso.org/display/DDW17/BuyerAgentDirectPhone+Field', 'https://ddwiki.reso.org/display/DDW17/BuyerAgentEmail+Field', 'https://ddwiki.reso.org/display/DDW17/BuyerAgentFax+Field', 'https://ddwiki.reso.org/display/DDW17/BuyerAgent+Field', 'https://ddwiki.reso.org/display/DDW17/BuyerAgentFirstName+Field', 'https://ddwiki.reso.org/display/DDW17/BuyerAgentFullName+Field', 'https://ddwiki.reso.org/display/DDW17/BuyerAgentHomePhone+Field', 'https://ddwiki.reso.org/display/DDW17/BuyerAgentKey+Field', 'https://ddwiki.reso.org/display/DDW17/BuyerAgentLastName+Field', 'https://ddwiki.reso.org/display/DDW17/BuyerAgentMiddleName+Field', 'https://ddwiki.reso.org/display/DDW17/BuyerAgentMlsId+Field', 'https://ddwiki.reso.org/display/DDW17/BuyerAgentMobilePhone+Field', 'https://ddwiki.reso.org/display/DDW17/BuyerAgentNamePrefix+Field', 'https://ddwiki.reso.org/display/DDW17/BuyerAgentNameSuffix+Field', 'https://ddwiki.reso.org/display/DDW17/BuyerAgentOfficePhoneExt+Field', 'https://ddwiki.reso.org/display/DDW17/BuyerAgentOfficePhone+Field', 'https://ddwiki.reso.org/display/DDW17/BuyerAgentPager+Field', 'https://ddwiki.reso.org/display/DDW17/BuyerAgentPreferredPhoneExt+Field', 'https://ddwiki.reso.org/display/DDW17/BuyerAgentPreferredPhone+Field', 'https://ddwiki.reso.org/display/DDW17/BuyerAgentStateLicense+Field', 'https://ddwiki.reso.org/display/DDW17/BuyerAgentTollFreePhone+Field', 'https://ddwiki.reso.org/display/DDW17/BuyerAgentURL+Field', 'https://ddwiki.reso.org/display/DDW17/BuyerAgentVoiceMailExt+Field', 'https://ddwiki.reso.org/display/DDW17/BuyerAgentVoiceMail+Field', 'https://ddwiki.reso.org/display/DDW17/BuyerOffice+Field', 'https://ddwiki.reso.org/display/DDW17/BuyerOfficeAOR+Field', 'https://ddwiki.reso.org/display/DDW17/BuyerOfficeEmail+Field', 'https://ddwiki.reso.org/display/DDW17/BuyerOfficeFax+Field', 'https://ddwiki.reso.org/display/DDW17/BuyerOfficeKey+Field', 'https://ddwiki.reso.org/display/DDW17/BuyerOfficeMlsId+Field', 'https://ddwiki.reso.org/display/DDW17/BuyerOfficeName+Field', 'https://ddwiki.reso.org/display/DDW17/BuyerOfficePhoneExt+Field', 'https://ddwiki.reso.org/display/DDW17/BuyerOfficePhone+Field', 'https://ddwiki.reso.org/display/DDW17/BuyerOfficeURL+Field', 'https://ddwiki.reso.org/display/DDW17/BuyerTeam+Field', 'https://ddwiki.reso.org/display/DDW17/CoBuyerAgentAOR+Field', 'https://ddwiki.reso.org/display/DDW17/CoBuyerAgentDesignation+Field', 'https://ddwiki.reso.org/display/DDW17/CoBuyerAgentDirectPhone+Field', 'https://ddwiki.reso.org/display/DDW17/CoBuyerAgentEmail+Field', 'https://ddwiki.reso.org/display/DDW17/CoBuyerAgentFax+Field', 'https://ddwiki.reso.org/display/DDW17/CoBuyerAgent+Field', 'https://ddwiki.reso.org/display/DDW17/CoBuyerAgentFirstName+Field', 'https://ddwiki.reso.org/display/DDW17/CoBuyerAgentFullName+Field', 'https://ddwiki.reso.org/display/DDW17/CoBuyerAgentHomePhone+Field', 'https://ddwiki.reso.org/display/DDW17/CoBuyerAgentKey+Field', 'https://ddwiki.reso.org/display/DDW17/CoBuyerAgentLastName+Field', 'https://ddwiki.reso.org/display/DDW17/CoBuyerAgentMiddleName+Field', 'https://ddwiki.reso.org/display/DDW17/CoBuyerAgentMlsId+Field', 'https://ddwiki.reso.org/display/DDW17/CoBuyerAgentMobilePhone+Field', 'https://ddwiki.reso.org/display/DDW17/CoBuyerAgentNamePrefix+Field', 'https://ddwiki.reso.org/display/DDW17/CoBuyerAgentNameSuffix+Field', 'https://ddwiki.reso.org/display/DDW17/CoBuyerAgentOfficePhoneExt+Field', 'https://ddwiki.reso.org/display/DDW17/CoBuyerAgentOfficePhone+Field', 'https://ddwiki.reso.org/display/DDW17/CoBuyerAgentPager+Field', 'https://ddwiki.reso.org/display/DDW17/CoBuyerAgentPreferredPhoneExt+Field', 'https://ddwiki.reso.org/display/DDW17/CoBuyerAgentPreferredPhone+Field', 'https://ddwiki.reso.org/display/DDW17/CoBuyerAgentStateLicense+Field', 'https://ddwiki.reso.org/display/DDW17/CoBuyerAgentTollFreePhone+Field', 'https://ddwiki.reso.org/display/DDW17/CoBuyerAgentURL+Field', 'https://ddwiki.reso.org/display/DDW17/CoBuyerAgentVoiceMailExt+Field', 'https://ddwiki.reso.org/display/DDW17/CoBuyerAgentVoiceMail+Field', 'https://ddwiki.reso.org/display/DDW17/CoBuyerOfficeAOR+Field', 'https://ddwiki.reso.org/display/DDW17/CoBuyerOfficeEmail+Field', 'https://ddwiki.reso.org/display/DDW17/CoBuyerOfficeFax+Field', 'https://ddwiki.reso.org/display/DDW17/CoBuyerOffice+Field', 'https://ddwiki.reso.org/display/DDW17/CoBuyerOfficeKey+Field', 'https://ddwiki.reso.org/display/DDW17/CoBuyerOfficeMlsId+Field', 'https://ddwiki.reso.org/display/DDW17/CoBuyerOfficeName+Field', 'https://ddwiki.reso.org/display/DDW17/CoBuyerOfficePhoneExt+Field', 'https://ddwiki.reso.org/display/DDW17/CoBuyerOfficePhone+Field', 'https://ddwiki.reso.org/display/DDW17/CoBuyerOfficeURL+Field', 'https://ddwiki.reso.org/display/DDW17/CoListAgentAOR+Field', 'https://ddwiki.reso.org/display/DDW17/CoListAgentDesignation+Field', 'https://ddwiki.reso.org/display/DDW17/CoListAgentDirectPhone+Field', 'https://ddwiki.reso.org/display/DDW17/CoListAgentEmail+Field', 'https://ddwiki.reso.org/display/DDW17/CoListAgentFax+Field', 'https://ddwiki.reso.org/display/DDW17/CoListAgent+Field', 'https://ddwiki.reso.org/display/DDW17/CoListAgentFirstName+Field', 'https://ddwiki.reso.org/display/DDW17/CoListAgentFullName+Field', 'https://ddwiki.reso.org/display/DDW17/CoListAgentHomePhone+Field', 'https://ddwiki.reso.org/display/DDW17/CoListAgentKey+Field', 'https://ddwiki.reso.org/display/DDW17/CoListAgentLastName+Field', 'https://ddwiki.reso.org/display/DDW17/CoListAgentMiddleName+Field', 'https://ddwiki.reso.org/display/DDW17/CoListAgentMlsId+Field', 'https://ddwiki.reso.org/display/DDW17/CoListAgentMobilePhone+Field', 'https://ddwiki.reso.org/display/DDW17/CoListAgentNamePrefix+Field', 'https://ddwiki.reso.org/display/DDW17/CoListAgentNameSuffix+Field', 'https://ddwiki.reso.org/display/DDW17/CoListAgentOfficePhoneExt+Field', 'https://ddwiki.reso.org/display/DDW17/CoListAgentOfficePhone+Field', 'https://ddwiki.reso.org/display/DDW17/CoListAgentPager+Field', 'https://ddwiki.reso.org/display/DDW17/CoListAgentPreferredPhoneExt+Field', 'https://ddwiki.reso.org/display/DDW17/CoListAgentPreferredPhone+Field', 'https://ddwiki.reso.org/display/DDW17/CoListAgentStateLicense+Field', 'https://ddwiki.reso.org/display/DDW17/CoListAgentTollFreePhone+Field', 'https://ddwiki.reso.org/display/DDW17/CoListAgentURL+Field', 'https://ddwiki.reso.org/display/DDW17/CoListAgentVoiceMailExt+Field', 'https://ddwiki.reso.org/display/DDW17/CoListAgentVoiceMail+Field', 'https://ddwiki.reso.org/display/DDW17/CoListOfficeAOR+Field', 'https://ddwiki.reso.org/display/DDW17/CoListOfficeEmail+Field', 'https://ddwiki.reso.org/display/DDW17/CoListOfficeFax+Field', 'https://ddwiki.reso.org/display/DDW17/CoListOffice+Field', 'https://ddwiki.reso.org/display/DDW17/CoListOfficeKey+Field', 'https://ddwiki.reso.org/display/DDW17/CoListOfficeMlsId+Field', 'https://ddwiki.reso.org/display/DDW17/CoListOfficeName+Field', 'https://ddwiki.reso.org/display/DDW17/CoListOfficePhoneExt+Field', 'https://ddwiki.reso.org/display/DDW17/CoListOfficePhone+Field', 'https://ddwiki.reso.org/display/DDW17/CoListOfficeURL+Field', 'https://ddwiki.reso.org/display/DDW17/ListAgentAOR+Field', 'https://ddwiki.reso.org/display/DDW17/ListAgentDesignation+Field', 'https://ddwiki.reso.org/display/DDW17/ListAgentDirectPhone+Field', 'https://ddwiki.reso.org/display/DDW17/ListAgentEmail+Field', 'https://ddwiki.reso.org/display/DDW17/ListAgentFax+Field', 'https://ddwiki.reso.org/display/DDW17/ListAgent+Field', 'https://ddwiki.reso.org/display/DDW17/ListAgentFirstName+Field', 'https://ddwiki.reso.org/display/DDW17/ListAgentFullName+Field', 'https://ddwiki.reso.org/display/DDW17/ListAgentHomePhone+Field', 'https://ddwiki.reso.org/display/DDW17/ListAgentKey+Field', 'https://ddwiki.reso.org/display/DDW17/ListAgentLastName+Field', 'https://ddwiki.reso.org/display/DDW17/ListAgentMiddleName+Field', 'https://ddwiki.reso.org/display/DDW17/ListAgentMlsId+Field', 'https://ddwiki.reso.org/display/DDW17/ListAgentMobilePhone+Field', 'https://ddwiki.reso.org/display/DDW17/ListAgentNamePrefix+Field', 'https://ddwiki.reso.org/display/DDW17/ListAgentNameSuffix+Field', 'https://ddwiki.reso.org/display/DDW17/ListAgentOfficePhoneExt+Field', 'https://ddwiki.reso.org/display/DDW17/ListAgentOfficePhone+Field', 'https://ddwiki.reso.org/display/DDW17/ListAgentPager+Field', 'https://ddwiki.reso.org/display/DDW17/ListAgentPreferredPhoneExt+Field', 'https://ddwiki.reso.org/display/DDW17/ListAgentPreferredPhone+Field', 'https://ddwiki.reso.org/display/DDW17/ListAgentStateLicense+Field', 'https://ddwiki.reso.org/display/DDW17/ListAgentTollFreePhone+Field', 'https://ddwiki.reso.org/display/DDW17/ListAgentURL+Field', 'https://ddwiki.reso.org/display/DDW17/ListAgentVoiceMailExt+Field', 'https://ddwiki.reso.org/display/DDW17/ListAgentVoiceMail+Field', 'https://ddwiki.reso.org/display/DDW17/ListOfficeAOR+Field', 'https://ddwiki.reso.org/display/DDW17/ListOfficeEmail+Field', 'https://ddwiki.reso.org/display/DDW17/ListOfficeFax+Field', 'https://ddwiki.reso.org/display/DDW17/ListOffice+Field', 'https://ddwiki.reso.org/display/DDW17/ListOfficeKey+Field', 'https://ddwiki.reso.org/display/DDW17/ListOfficeMlsId+Field', 'https://ddwiki.reso.org/display/DDW17/ListOfficeName+Field', 'https://ddwiki.reso.org/display/DDW17/ListOfficePhoneExt+Field', 'https://ddwiki.reso.org/display/DDW17/ListOfficePhone+Field', 'https://ddwiki.reso.org/display/DDW17/ListOfficeURL+Field', 'https://ddwiki.reso.org/display/DDW17/ListTeam+Field', 'https://ddwiki.reso.org/display/DDW17/BuyerTeamKey+Field', 'https://ddwiki.reso.org/display/DDW17/BuyerTeamName+Field', 'https://ddwiki.reso.org/display/DDW17/ListTeamKey+Field', 'https://ddwiki.reso.org/display/DDW17/ListTeamName+Field', 'https://ddwiki.reso.org/display/DDW17/AvailabilityDate+Field', 'https://ddwiki.reso.org/display/DDW17/BuyerFinancing+Field', 'https://ddwiki.reso.org/display/DDW17/ConcessionsAmount+Field', 'https://ddwiki.reso.org/display/DDW17/ConcessionsComments+Field', 'https://ddwiki.reso.org/display/DDW17/Concessions+Field', 'https://ddwiki.reso.org/display/DDW17/Contingency+Field', 'https://ddwiki.reso.org/display/DDW17/Possession+Field', 'https://ddwiki.reso.org/display/DDW17/BuyerAgencyCompensation+Field', 'https://ddwiki.reso.org/display/DDW17/BuyerAgencyCompensationType+Field', 'https://ddwiki.reso.org/display/DDW17/DualVariableCompensationYN+Field', 'https://ddwiki.reso.org/display/DDW17/LeaseRenewalCompensation+Field', 'https://ddwiki.reso.org/display/DDW17/SubAgencyCompensation+Field', 'https://ddwiki.reso.org/display/DDW17/SubAgencyCompensationType+Field', 'https://ddwiki.reso.org/display/DDW17/TransactionBrokerCompensation+Field', 'https://ddwiki.reso.org/display/DDW17/TransactionBrokerCompensationType+Field', 'https://ddwiki.reso.org/display/DDW17/CommonInterest+Field', 'https://ddwiki.reso.org/display/DDW17/CurrentFinancing+Field', 'https://ddwiki.reso.org/display/DDW17/Disclosures+Field', 'https://ddwiki.reso.org/display/DDW17/Exclusions+Field', 'https://ddwiki.reso.org/display/DDW17/Inclusions+Field', 'https://ddwiki.reso.org/display/DDW17/ListingTerms+Field', 'https://ddwiki.reso.org/display/DDW17/Ownership+Field', 'https://ddwiki.reso.org/display/DDW17/SpecialListingConditions+Field', 'https://ddwiki.reso.org/display/DDW17/CopyrightNotice+Field', 'https://ddwiki.reso.org/display/DDW17/CancellationDate+Field', 'https://ddwiki.reso.org/display/DDW17/CloseDate+Field', 'https://ddwiki.reso.org/display/DDW17/ContingentDate+Field', 'https://ddwiki.reso.org/display/DDW17/ContractStatusChangeDate+Field', 'https://ddwiki.reso.org/display/DDW17/CumulativeDaysOnMarket+Field', 'https://ddwiki.reso.org/display/DDW17/DaysOnMarket+Field', 'https://ddwiki.reso.org/display/DDW17/ExpirationDate+Field', 'https://ddwiki.reso.org/display/DDW17/ListingContractDate+Field', 'https://ddwiki.reso.org/display/DDW17/MajorChangeTimestamp+Field', 'https://ddwiki.reso.org/display/DDW17/MajorChangeType+Field', 'https://ddwiki.reso.org/display/DDW17/ModificationTimestamp+Field', 'https://ddwiki.reso.org/display/DDW17/OffMarketDate+Field', 'https://ddwiki.reso.org/display/DDW17/OffMarketTimestamp+Field', 'https://ddwiki.reso.org/display/DDW17/OnMarketDate+Field', 'https://ddwiki.reso.org/display/DDW17/OnMarketTimestamp+Field', 'https://ddwiki.reso.org/display/DDW17/OriginalEntryTimestamp+Field', 'https://ddwiki.reso.org/display/DDW17/PendingTimestamp+Field', 'https://ddwiki.reso.org/display/DDW17/PriceChangeTimestamp+Field', 'https://ddwiki.reso.org/display/DDW17/PurchaseContractDate+Field', 'https://ddwiki.reso.org/display/DDW17/StatusChangeTimestamp+Field', 'https://ddwiki.reso.org/display/DDW17/WithdrawnDate+Field', 'https://ddwiki.reso.org/display/DDW17/Disclaimer+Field', 'https://ddwiki.reso.org/display/DDW17/HistoryTransactional+Field', 'https://ddwiki.reso.org/display/DDW17/HomeWarrantyYN+Field', 'https://ddwiki.reso.org/display/DDW17/LeaseConsideredYN+Field', 'https://ddwiki.reso.org/display/DDW17/ListAOR+Field', 'https://ddwiki.reso.org/display/DDW17/ListingAgreement+Field', 'https://ddwiki.reso.org/display/DDW17/ListingId+Field', 'https://ddwiki.reso.org/display/DDW17/ListingKey+Field', 'https://ddwiki.reso.org/display/DDW17/ListingService+Field', 'https://ddwiki.reso.org/display/DDW17/InternetAddressDisplayYN+Field', 'https://ddwiki.reso.org/display/DDW17/InternetAutomatedValuationDisplayYN+Field', 'https://ddwiki.reso.org/display/DDW17/InternetConsumerCommentYN+Field', 'https://ddwiki.reso.org/display/DDW17/InternetEntireListingDisplayYN+Field', 'https://ddwiki.reso.org/display/DDW17/SignOnPropertyYN+Field', 'https://ddwiki.reso.org/display/DDW17/SyndicateTo+Field', 'https://ddwiki.reso.org/display/DDW17/VirtualTourURLBranded+Field', 'https://ddwiki.reso.org/display/DDW17/VirtualTourURLUnbranded+Field', 'https://ddwiki.reso.org/display/DDW17/DocumentsAvailable+Field', 'https://ddwiki.reso.org/display/DDW17/DocumentsChangeTimestamp+Field', 'https://ddwiki.reso.org/display/DDW17/DocumentsCount+Field', 'https://ddwiki.reso.org/display/DDW17/Media+Field', 'https://ddwiki.reso.org/display/DDW17/PhotosChangeTimestamp+Field', 'https://ddwiki.reso.org/display/DDW17/PhotosCount+Field', 'https://ddwiki.reso.org/display/DDW17/VideosChangeTimestamp+Field', 'https://ddwiki.reso.org/display/DDW17/VideosCount+Field', 'https://ddwiki.reso.org/display/DDW17/MlsStatus+Field', 'https://ddwiki.reso.org/display/DDW17/OpenHouse+Field', 'https://ddwiki.reso.org/display/DDW17/OriginatingSystem+Field', 'https://ddwiki.reso.org/display/DDW17/OriginatingSystemID+Field', 'https://ddwiki.reso.org/display/DDW17/OriginatingSystemKey+Field', 'https://ddwiki.reso.org/display/DDW17/OriginatingSystemName+Field', 'https://ddwiki.reso.org/display/DDW17/ClosePrice+Field', 'https://ddwiki.reso.org/display/DDW17/ListPrice+Field', 'https://ddwiki.reso.org/display/DDW17/ListPriceLow+Field', 'https://ddwiki.reso.org/display/DDW17/OriginalListPrice+Field', 'https://ddwiki.reso.org/display/DDW17/PreviousListPrice+Field', 'https://ddwiki.reso.org/display/DDW17/PrivateOfficeRemarks+Field', 'https://ddwiki.reso.org/display/DDW17/PrivateRemarks+Field', 'https://ddwiki.reso.org/display/DDW17/PublicRemarks+Field', 'https://ddwiki.reso.org/display/DDW17/SyndicationRemarks+Field', 'https://ddwiki.reso.org/display/DDW17/AccessCode+Field', 'https://ddwiki.reso.org/display/DDW17/LockBoxLocation+Field', 'https://ddwiki.reso.org/display/DDW17/LockBoxSerialNumber+Field', 'https://ddwiki.reso.org/display/DDW17/LockBoxType+Field', 'https://ddwiki.reso.org/display/DDW17/ShowingAdvanceNotice+Field', 'https://ddwiki.reso.org/display/DDW17/ShowingAttendedYN+Field', 'https://ddwiki.reso.org/display/DDW17/ShowingContactName+Field', 'https://ddwiki.reso.org/display/DDW17/ShowingContactPhoneExt+Field', 'https://ddwiki.reso.org/display/DDW17/ShowingContactPhone+Field', 'https://ddwiki.reso.org/display/DDW17/ShowingContactType+Field', 'https://ddwiki.reso.org/display/DDW17/ShowingDays+Field', 'https://ddwiki.reso.org/display/DDW17/ShowingEndTime+Field', 'https://ddwiki.reso.org/display/DDW17/ShowingInstructions+Field', 'https://ddwiki.reso.org/display/DDW17/ShowingRequirements+Field', 'https://ddwiki.reso.org/display/DDW17/ShowingStartTime+Field', 'https://ddwiki.reso.org/display/DDW17/SocialMedia+Field', 'https://ddwiki.reso.org/display/DDW17/SourceSystem+Field', 'https://ddwiki.reso.org/display/DDW17/SourceSystemID+Field', 'https://ddwiki.reso.org/display/DDW17/SourceSystemKey+Field', 'https://ddwiki.reso.org/display/DDW17/SourceSystemName+Field', 'https://ddwiki.reso.org/display/DDW17/StandardStatus+Field', 'https://ddwiki.reso.org/display/DDW17/CarrierRoute+Field', 'https://ddwiki.reso.org/display/DDW17/City+Field', 'https://ddwiki.reso.org/display/DDW17/Country+Field', 'https://ddwiki.reso.org/display/DDW17/CountyOrParish+Field', 'https://ddwiki.reso.org/display/DDW17/PostalCity+Field', 'https://ddwiki.reso.org/display/DDW17/PostalCode+Field', 'https://ddwiki.reso.org/display/DDW17/PostalCodePlus4+Field', 'https://ddwiki.reso.org/display/DDW17/StateOrProvince+Field', 'https://ddwiki.reso.org/display/DDW17/StreetAdditionalInfo+Field', 'https://ddwiki.reso.org/display/DDW17/StreetDirPrefix+Field', 'https://ddwiki.reso.org/display/DDW17/StreetDirSuffix+Field', 'https://ddwiki.reso.org/display/DDW17/StreetName+Field', 'https://ddwiki.reso.org/display/DDW17/StreetNumber+Field', 'https://ddwiki.reso.org/display/DDW17/StreetNumberNumeric+Field', 'https://ddwiki.reso.org/display/DDW17/StreetSuffix+Field', 'https://ddwiki.reso.org/display/DDW17/StreetSuffixModifier+Field', 'https://ddwiki.reso.org/display/DDW17/Township+Field', 'https://ddwiki.reso.org/display/DDW17/UnitNumber+Field', 'https://ddwiki.reso.org/display/DDW17/UnparsedAddress+Field', 'https://ddwiki.reso.org/display/DDW17/CityRegion+Field', 'https://ddwiki.reso.org/display/DDW17/ContinentRegion+Field', 'https://ddwiki.reso.org/display/DDW17/CountryRegion+Field', 'https://ddwiki.reso.org/display/DDW17/MLSAreaMajor+Field', 'https://ddwiki.reso.org/display/DDW17/MLSAreaMinor+Field', 'https://ddwiki.reso.org/display/DDW17/StateRegion+Field', 'https://ddwiki.reso.org/display/DDW17/SubdivisionName+Field', 'https://ddwiki.reso.org/display/DDW17/CrossStreet+Field', 'https://ddwiki.reso.org/display/DDW17/Directions+Field', 'https://ddwiki.reso.org/display/DDW17/Elevation+Field', 'https://ddwiki.reso.org/display/DDW17/ElevationUnits+Field', 'https://ddwiki.reso.org/display/DDW17/Latitude+Field', 'https://ddwiki.reso.org/display/DDW17/Longitude+Field', 'https://ddwiki.reso.org/display/DDW17/MapCoordinate+Field', 'https://ddwiki.reso.org/display/DDW17/MapCoordinateSource+Field', 'https://ddwiki.reso.org/display/DDW17/MapURL+Field', 'https://ddwiki.reso.org/display/DDW17/ElementarySchoolDistrict+Field', 'https://ddwiki.reso.org/display/DDW17/ElementarySchool+Field', 'https://ddwiki.reso.org/display/DDW17/HighSchoolDistrict+Field', 'https://ddwiki.reso.org/display/DDW17/HighSchool+Field', 'https://ddwiki.reso.org/display/DDW17/MiddleOrJuniorSchoolDistrict+Field', 'https://ddwiki.reso.org/display/DDW17/MiddleOrJuniorSchool+Field', 'https://ddwiki.reso.org/display/DDW17/OccupantName+Field', 'https://ddwiki.reso.org/display/DDW17/OccupantPhone+Field', 'https://ddwiki.reso.org/display/DDW17/OccupantType+Field', 'https://ddwiki.reso.org/display/DDW17/OwnerName+Field', 'https://ddwiki.reso.org/display/DDW17/OwnerPhone+Field', 'https://ddwiki.reso.org/display/DDW17/PropertySubType+Field', 'https://ddwiki.reso.org/display/DDW17/PropertyType+Field', 'https://ddwiki.reso.org/display/DDW17/AboveGradeFinishedArea+Field', 'https://ddwiki.reso.org/display/DDW17/AboveGradeFinishedAreaSource+Field', 'https://ddwiki.reso.org/display/DDW17/AboveGradeFinishedAreaUnits+Field', 'https://ddwiki.reso.org/display/DDW17/AccessibilityFeatures+Field', 'https://ddwiki.reso.org/display/DDW17/ArchitecturalStyle+Field', 'https://ddwiki.reso.org/display/DDW17/AttachedGarageYN+Field', 'https://ddwiki.reso.org/display/DDW17/Basement+Field', 'https://ddwiki.reso.org/display/DDW17/BasementYN+Field', 'https://ddwiki.reso.org/display/DDW17/BathroomsFull+Field', 'https://ddwiki.reso.org/display/DDW17/BathroomsHalf+Field', 'https://ddwiki.reso.org/display/DDW17/BathroomsOneQuarter+Field', 'https://ddwiki.reso.org/display/DDW17/BathroomsPartial+Field', 'https://ddwiki.reso.org/display/DDW17/BathroomsThreeQuarter+Field', 'https://ddwiki.reso.org/display/DDW17/BathroomsTotalInteger+Field', 'https://ddwiki.reso.org/display/DDW17/BedroomsPossible+Field', 'https://ddwiki.reso.org/display/DDW17/BedroomsTotal+Field', 'https://ddwiki.reso.org/display/DDW17/BelowGradeFinishedArea+Field', 'https://ddwiki.reso.org/display/DDW17/BelowGradeFinishedAreaSource+Field', 'https://ddwiki.reso.org/display/DDW17/BelowGradeFinishedAreaUnits+Field', 'https://ddwiki.reso.org/display/DDW17/BodyType+Field', 'https://ddwiki.reso.org/display/DDW17/BuilderModel+Field', 'https://ddwiki.reso.org/display/DDW17/BuilderName+Field', 'https://ddwiki.reso.org/display/DDW17/BuildingAreaSource+Field', 'https://ddwiki.reso.org/display/DDW17/BuildingAreaTotal+Field', 'https://ddwiki.reso.org/display/DDW17/BuildingAreaUnits+Field', 'https://ddwiki.reso.org/display/DDW17/BuildingFeatures+Field', 'https://ddwiki.reso.org/display/DDW17/BuildingName+Field', 'https://ddwiki.reso.org/display/DDW17/CarportSpaces+Field', 'https://ddwiki.reso.org/display/DDW17/CarportYN+Field', 'https://ddwiki.reso.org/display/DDW17/CommonWalls+Field', 'https://ddwiki.reso.org/display/DDW17/ConstructionMaterials+Field', 'https://ddwiki.reso.org/display/DDW17/Cooling+Field', 'https://ddwiki.reso.org/display/DDW17/CoolingYN+Field', 'https://ddwiki.reso.org/display/DDW17/CoveredSpaces+Field', 'https://ddwiki.reso.org/display/DDW17/DirectionFaces+Field', 'https://ddwiki.reso.org/display/DDW17/DOH1+Field', 'https://ddwiki.reso.org/display/DDW17/DOH2+Field', 'https://ddwiki.reso.org/display/DDW17/DOH3+Field', 'https://ddwiki.reso.org/display/DDW17/DoorFeatures+Field', 'https://ddwiki.reso.org/display/DDW17/EntryLevel+Field', 'https://ddwiki.reso.org/display/DDW17/EntryLocation+Field', 'https://ddwiki.reso.org/display/DDW17/ExteriorFeatures+Field', 'https://ddwiki.reso.org/display/DDW17/FireplaceFeatures+Field', 'https://ddwiki.reso.org/display/DDW17/FireplacesTotal+Field', 'https://ddwiki.reso.org/display/DDW17/FireplaceYN+Field', 'https://ddwiki.reso.org/display/DDW17/Flooring+Field', 'https://ddwiki.reso.org/display/DDW17/FoundationArea+Field', 'https://ddwiki.reso.org/display/DDW17/FoundationDetails+Field', 'https://ddwiki.reso.org/display/DDW17/GarageSpaces+Field', 'https://ddwiki.reso.org/display/DDW17/GarageYN+Field', 'https://ddwiki.reso.org/display/DDW17/HabitableResidenceYN+Field', 'https://ddwiki.reso.org/display/DDW17/Heating+Field', 'https://ddwiki.reso.org/display/DDW17/HeatingYN+Field', 'https://ddwiki.reso.org/display/DDW17/InteriorFeatures+Field', 'https://ddwiki.reso.org/display/DDW17/LeasableArea+Field', 'https://ddwiki.reso.org/display/DDW17/LeasableAreaUnits+Field', 'https://ddwiki.reso.org/display/DDW17/Levels+Field', 'https://ddwiki.reso.org/display/DDW17/License1+Field', 'https://ddwiki.reso.org/display/DDW17/License2+Field', 'https://ddwiki.reso.org/display/DDW17/License3+Field', 'https://ddwiki.reso.org/display/DDW17/LivingArea+Field', 'https://ddwiki.reso.org/display/DDW17/LivingAreaSource+Field', 'https://ddwiki.reso.org/display/DDW17/LivingAreaUnits+Field', 'https://ddwiki.reso.org/display/DDW17/MainLevelBathrooms+Field', 'https://ddwiki.reso.org/display/DDW17/MainLevelBedrooms+Field', 'https://ddwiki.reso.org/display/DDW17/Make+Field', 'https://ddwiki.reso.org/display/DDW17/MobileDimUnits+Field', 'https://ddwiki.reso.org/display/DDW17/MobileLength+Field', 'https://ddwiki.reso.org/display/DDW17/MobileWidth+Field', 'https://ddwiki.reso.org/display/DDW17/Model+Field', 'https://ddwiki.reso.org/display/DDW17/NewConstructionYN+Field', 'https://ddwiki.reso.org/display/DDW17/OpenParkingSpaces+Field', 'https://ddwiki.reso.org/display/DDW17/OpenParkingYN+Field', 'https://ddwiki.reso.org/display/DDW17/OtherParking+Field', 'https://ddwiki.reso.org/display/DDW17/OtherStructures+Field', 'https://ddwiki.reso.org/display/DDW17/ParkingFeatures+Field', 'https://ddwiki.reso.org/display/DDW17/ParkingTotal+Field', 'https://ddwiki.reso.org/display/DDW17/PatioAndPorchFeatures+Field', 'https://ddwiki.reso.org/display/DDW17/GreenEnergyEfficient+Field', 'https://ddwiki.reso.org/display/DDW17/GreenEnergyGeneration+Field', 'https://ddwiki.reso.org/display/DDW17/GreenIndoorAirQuality+Field', 'https://ddwiki.reso.org/display/DDW17/GreenLocation+Field', 'https://ddwiki.reso.org/display/DDW17/GreenSustainability+Field', 'https://ddwiki.reso.org/display/DDW17/GreenWaterConservation+Field', 'https://ddwiki.reso.org/display/DDW17/WalkScore+Field', 'https://ddwiki.reso.org/display/DDW17/GreenBuildingVerification+Field', 'https://ddwiki.reso.org/display/DDW17/GreenBuildingVerificationType+Field', 'https://ddwiki.reso.org/display/DDW17/PropertyAttachedYN+Field', 'https://ddwiki.reso.org/display/DDW17/PropertyCondition+Field', 'https://ddwiki.reso.org/display/DDW17/Roof+Field', 'https://ddwiki.reso.org/display/DDW17/Rooms+Field', 'https://ddwiki.reso.org/display/DDW17/RoomsTotal+Field', 'https://ddwiki.reso.org/display/DDW17/RoomType+Field', 'https://ddwiki.reso.org/display/DDW17/RVParkingDimensions+Field', 'https://ddwiki.reso.org/display/DDW17/SerialU+Field', 'https://ddwiki.reso.org/display/DDW17/SerialX+Field', 'https://ddwiki.reso.org/display/DDW17/SerialXX+Field', 'https://ddwiki.reso.org/display/DDW17/Skirt+Field', 'https://ddwiki.reso.org/display/DDW17/Stories+Field', 'https://ddwiki.reso.org/display/DDW17/StoriesTotal+Field', 'https://ddwiki.reso.org/display/DDW17/StructureType+Field', 'https://ddwiki.reso.org/display/DDW17/WindowFeatures+Field', 'https://ddwiki.reso.org/display/DDW17/YearBuiltDetails+Field', 'https://ddwiki.reso.org/display/DDW17/YearBuiltEffective+Field', 'https://ddwiki.reso.org/display/DDW17/YearBuilt+Field', 'https://ddwiki.reso.org/display/DDW17/YearBuiltSource+Field', 'https://ddwiki.reso.org/display/DDW17/AdditionalParcelsDescription+Field', 'https://ddwiki.reso.org/display/DDW17/AdditionalParcelsYN+Field', 'https://ddwiki.reso.org/display/DDW17/ParcelNumber+Field', 'https://ddwiki.reso.org/display/DDW17/PublicSurveyRange+Field', 'https://ddwiki.reso.org/display/DDW17/PublicSurveySection+Field', 'https://ddwiki.reso.org/display/DDW17/PublicSurveyTownship+Field', 'https://ddwiki.reso.org/display/DDW17/TaxAnnualAmount+Field', 'https://ddwiki.reso.org/display/DDW17/TaxAssessedValue+Field', 'https://ddwiki.reso.org/display/DDW17/TaxBlock+Field', 'https://ddwiki.reso.org/display/DDW17/TaxBookNumber+Field', 'https://ddwiki.reso.org/display/DDW17/TaxLegalDescription+Field', 'https://ddwiki.reso.org/display/DDW17/TaxLot+Field', 'https://ddwiki.reso.org/display/DDW17/TaxMapNumber+Field', 'https://ddwiki.reso.org/display/DDW17/TaxOtherAnnualAssessmentAmount+Field', 'https://ddwiki.reso.org/display/DDW17/TaxParcelLetter+Field', 'https://ddwiki.reso.org/display/DDW17/TaxStatusCurrent+Field', 'https://ddwiki.reso.org/display/DDW17/TaxTract+Field', 'https://ddwiki.reso.org/display/DDW17/TaxYear+Field', 'https://ddwiki.reso.org/display/DDW17/ZoningDescription+Field', 'https://ddwiki.reso.org/display/DDW17/Zoning+Field', 'https://ddwiki.reso.org/display/DDW17/UnitTypes+Field', 'https://ddwiki.reso.org/display/DDW17/UnitTypeType+Field', 'https://ddwiki.reso.org/display/DDW17/UniversalPropertyId+Field', 'https://ddwiki.reso.org/display/DDW17/UniversalPropertySubId+Field', 'https://ddwiki.reso.org/display/DDW17/DistanceToBusComments+Field', 'https://ddwiki.reso.org/display/DDW17/DistanceToBusNumeric+Field', 'https://ddwiki.reso.org/display/DDW17/DistanceToBusUnits+Field', 'https://ddwiki.reso.org/display/DDW17/DistanceToElectricComments+Field', 'https://ddwiki.reso.org/display/DDW17/DistanceToElectricNumeric+Field', 'https://ddwiki.reso.org/display/DDW17/DistanceToElectricUnits+Field', 'https://ddwiki.reso.org/display/DDW17/DistanceToFreewayComments+Field', 'https://ddwiki.reso.org/display/DDW17/DistanceToFreewayNumeric+Field', 'https://ddwiki.reso.org/display/DDW17/DistanceToFreewayUnits+Field', 'https://ddwiki.reso.org/display/DDW17/DistanceToGasComments+Field', 'https://ddwiki.reso.org/display/DDW17/DistanceToGasNumeric+Field', 'https://ddwiki.reso.org/display/DDW17/DistanceToGasUnits+Field', 'https://ddwiki.reso.org/display/DDW17/DistanceToPhoneServiceComments+Field', 'https://ddwiki.reso.org/display/DDW17/DistanceToPhoneServiceNumeric+Field', 'https://ddwiki.reso.org/display/DDW17/DistanceToPhoneServiceUnits+Field', 'https://ddwiki.reso.org/display/DDW17/DistanceToPlaceofWorshipComments+Field', 'https://ddwiki.reso.org/display/DDW17/DistanceToPlaceofWorshipNumeric+Field', 'https://ddwiki.reso.org/display/DDW17/DistanceToPlaceofWorshipUnits+Field', 'https://ddwiki.reso.org/display/DDW17/DistanceToSchoolBusComments+Field', 'https://ddwiki.reso.org/display/DDW17/DistanceToSchoolBusNumeric+Field', 'https://ddwiki.reso.org/display/DDW17/DistanceToSchoolBusUnits+Field', 'https://ddwiki.reso.org/display/DDW17/DistanceToSchoolsComments+Field', 'https://ddwiki.reso.org/display/DDW17/DistanceToSchoolsNumeric+Field', 'https://ddwiki.reso.org/display/DDW17/DistanceToSchoolsUnits+Field', 'https://ddwiki.reso.org/display/DDW17/DistanceToSewerComments+Field', 'https://ddwiki.reso.org/display/DDW17/DistanceToSewerNumeric+Field', 'https://ddwiki.reso.org/display/DDW17/DistanceToSewerUnits+Field', 'https://ddwiki.reso.org/display/DDW17/DistanceToShoppingComments+Field', 'https://ddwiki.reso.org/display/DDW17/DistanceToShoppingNumeric+Field', 'https://ddwiki.reso.org/display/DDW17/DistanceToShoppingUnits+Field', 'https://ddwiki.reso.org/display/DDW17/DistanceToStreetComments+Field', 'https://ddwiki.reso.org/display/DDW17/DistanceToStreetNumeric+Field', 'https://ddwiki.reso.org/display/DDW17/DistanceToStreetUnits+Field', 'https://ddwiki.reso.org/display/DDW17/DistanceToWaterComments+Field', 'https://ddwiki.reso.org/display/DDW17/DistanceToWaterNumeric+Field', 'https://ddwiki.reso.org/display/DDW17/DistanceToWaterUnits+Field', 'https://ddwiki.reso.org/display/DDW17/Electric+Field', 'https://ddwiki.reso.org/display/DDW17/ElectricOnPropertyYN+Field', 'https://ddwiki.reso.org/display/DDW17/IrrigationSource+Field', 'https://ddwiki.reso.org/display/DDW17/IrrigationWaterRightsAcres+Field', 'https://ddwiki.reso.org/display/DDW17/IrrigationWaterRightsYN+Field', 'https://ddwiki.reso.org/display/DDW17/NumberOfSeparateElectricMeters+Field', 'https://ddwiki.reso.org/display/DDW17/NumberOfSeparateGasMeters+Field', 'https://ddwiki.reso.org/display/DDW17/NumberOfSeparateWaterMeters+Field', 'https://ddwiki.reso.org/display/DDW17/PowerProduction+Field', 'https://ddwiki.reso.org/display/DDW17/PowerProductionType+Field', 'https://ddwiki.reso.org/display/DDW17/Sewer+Field', 'https://ddwiki.reso.org/display/DDW17/Utilities+Field', 'https://ddwiki.reso.org/display/DDW17/WaterSource+Field']\n"
     ]
    }
   ],
   "source": [
    "split_links = [i.split('?', 1)[0] for i in all_href]\n",
    "field_links = [j for j in split_links if '+Field' in j]\n",
    "\n",
    "print(field_links)"
   ]
  },
  {
   "cell_type": "code",
   "execution_count": 4,
   "metadata": {},
   "outputs": [
    {
     "name": "stdout",
     "output_type": "stream",
     "text": [
      "                               Field        System Usage (%)  \\\n",
      "0                       BusinessName  65% of Systems (11/17)   \n",
      "1                       BusinessType  71% of Systems (12/17)   \n",
      "2    HoursDaysOfOperationDescription   18% of Systems (3/17)   \n",
      "3               HoursDaysOfOperation   41% of Systems (7/17)   \n",
      "4                   LaborInformation   29% of Systems (5/17)   \n",
      "..                               ...                     ...   \n",
      "608                  PowerProduction   <1% of Systems (0/17)   \n",
      "609              PowerProductionType   35% of Systems (6/17)   \n",
      "610                            Sewer  88% of Systems (15/17)   \n",
      "611                        Utilities  82% of Systems (14/17)   \n",
      "612                      WaterSource  82% of Systems (14/17)   \n",
      "\n",
      "                      Org Usage (%)           Resource  \n",
      "0    30% of Organizations (151/501)  Property Resource  \n",
      "1    69% of Organizations (344/501)  Property Resource  \n",
      "2       2% of Organizations (9/501)  Property Resource  \n",
      "3    26% of Organizations (132/501)  Property Resource  \n",
      "4    24% of Organizations (120/501)  Property Resource  \n",
      "..                              ...                ...  \n",
      "608    <1% of Organizations (0/501)  Property Resource  \n",
      "609    4% of Organizations (21/501)  Property Resource  \n",
      "610  87% of Organizations (435/501)  Property Resource  \n",
      "611  86% of Organizations (429/501)  Property Resource  \n",
      "612  86% of Organizations (430/501)  Property Resource  \n",
      "\n",
      "[613 rows x 4 columns]\n"
     ]
    }
   ],
   "source": [
    "for lnk in field_links:\n",
    "    page = requests.get(lnk)\n",
    "    soup = BeautifulSoup(page.text, 'html')\n",
    "    inner_cell_elements = soup.find_all('div', class_='innerCell')\n",
    "\n",
    "    field_name = soup.find('title').text.strip().split(' ')[0]\n",
    "\n",
    "    crumbs = soup.find_all('ol', id='breadcrumbs')\n",
    "\n",
    "    for a in crumbs:\n",
    "        a_tag = a.find_all('a')\n",
    "        a_text = [txt.text.strip() for txt in a_tag]\n",
    "\n",
    "    if len(a_text) < 3:\n",
    "        a_text.insert(3, 'null')\n",
    "\n",
    "    for li in inner_cell_elements[6:7]:\n",
    "        li_tag = li.find_all('li')\n",
    "        li_text = [data.text.strip() for data in li_tag[0:2]]\n",
    "\n",
    "    df.loc[len(df.index)] = [field_name, li_text[0], li_text[1], a_text[2]]\n",
    "\n",
    "print(df)"
   ]
  },
  {
   "cell_type": "code",
   "execution_count": 5,
   "metadata": {},
   "outputs": [],
   "source": [
    "df['Resource'].replace(' Resource','', regex=True, inplace=True)\n",
    "df.replace({'(?<=%).*': ''}, regex=True, inplace=True)\n",
    "df = df[~df['System Usage (%)'].str.contains(\"[a-zA-Z]\").fillna(False)]"
   ]
  },
  {
   "cell_type": "code",
   "execution_count": 7,
   "metadata": {},
   "outputs": [
    {
     "data": {
      "text/plain": [
       "Field               object\n",
       "System Usage (%)     int64\n",
       "Org Usage (%)        int64\n",
       "Resource            object\n",
       "dtype: object"
      ]
     },
     "metadata": {},
     "output_type": "display_data"
    }
   ],
   "source": [
    "df.replace({'<': ''}, regex=True, inplace=True)\n",
    "df['System Usage (%)'] = df['System Usage (%)'].str.replace('%', '')\n",
    "df['Org Usage (%)'] = df['Org Usage (%)'].str.replace('%', '')\n",
    "\n",
    "df = df.astype({\"System Usage (%)\":\"int\",\"Org Usage (%)\":\"int\"})\n",
    "\n",
    "display(df.dtypes)"
   ]
  },
  {
   "cell_type": "code",
   "execution_count": 8,
   "metadata": {},
   "outputs": [
    {
     "data": {
      "text/html": [
       "<div>\n",
       "<style scoped>\n",
       "    .dataframe tbody tr th:only-of-type {\n",
       "        vertical-align: middle;\n",
       "    }\n",
       "\n",
       "    .dataframe tbody tr th {\n",
       "        vertical-align: top;\n",
       "    }\n",
       "\n",
       "    .dataframe thead th {\n",
       "        text-align: right;\n",
       "    }\n",
       "</style>\n",
       "<table border=\"1\" class=\"dataframe\">\n",
       "  <thead>\n",
       "    <tr style=\"text-align: right;\">\n",
       "      <th></th>\n",
       "      <th>Field</th>\n",
       "      <th>System Usage (%)</th>\n",
       "      <th>Org Usage (%)</th>\n",
       "      <th>Resource</th>\n",
       "    </tr>\n",
       "  </thead>\n",
       "  <tbody>\n",
       "    <tr>\n",
       "      <th>357</th>\n",
       "      <td>ListPrice</td>\n",
       "      <td>100</td>\n",
       "      <td>99</td>\n",
       "      <td>Property</td>\n",
       "    </tr>\n",
       "    <tr>\n",
       "      <th>314</th>\n",
       "      <td>ModificationTimestamp</td>\n",
       "      <td>100</td>\n",
       "      <td>99</td>\n",
       "      <td>Property</td>\n",
       "    </tr>\n",
       "    <tr>\n",
       "      <th>393</th>\n",
       "      <td>StateOrProvince</td>\n",
       "      <td>100</td>\n",
       "      <td>99</td>\n",
       "      <td>Property</td>\n",
       "    </tr>\n",
       "    <tr>\n",
       "      <th>449</th>\n",
       "      <td>BedroomsTotal</td>\n",
       "      <td>100</td>\n",
       "      <td>99</td>\n",
       "      <td>Property</td>\n",
       "    </tr>\n",
       "    <tr>\n",
       "      <th>331</th>\n",
       "      <td>ListingId</td>\n",
       "      <td>100</td>\n",
       "      <td>99</td>\n",
       "      <td>Property</td>\n",
       "    </tr>\n",
       "    <tr>\n",
       "      <th>433</th>\n",
       "      <td>PropertyType</td>\n",
       "      <td>100</td>\n",
       "      <td>99</td>\n",
       "      <td>Property</td>\n",
       "    </tr>\n",
       "    <tr>\n",
       "      <th>311</th>\n",
       "      <td>ListingContractDate</td>\n",
       "      <td>94</td>\n",
       "      <td>98</td>\n",
       "      <td>Property</td>\n",
       "    </tr>\n",
       "    <tr>\n",
       "      <th>391</th>\n",
       "      <td>PostalCode</td>\n",
       "      <td>94</td>\n",
       "      <td>98</td>\n",
       "      <td>Property</td>\n",
       "    </tr>\n",
       "    <tr>\n",
       "      <th>417</th>\n",
       "      <td>Longitude</td>\n",
       "      <td>94</td>\n",
       "      <td>98</td>\n",
       "      <td>Property</td>\n",
       "    </tr>\n",
       "    <tr>\n",
       "      <th>416</th>\n",
       "      <td>Latitude</td>\n",
       "      <td>94</td>\n",
       "      <td>98</td>\n",
       "      <td>Property</td>\n",
       "    </tr>\n",
       "  </tbody>\n",
       "</table>\n",
       "</div>"
      ],
      "text/plain": [
       "                     Field  System Usage (%)  Org Usage (%)  Resource\n",
       "357              ListPrice               100             99  Property\n",
       "314  ModificationTimestamp               100             99  Property\n",
       "393        StateOrProvince               100             99  Property\n",
       "449          BedroomsTotal               100             99  Property\n",
       "331              ListingId               100             99  Property\n",
       "433           PropertyType               100             99  Property\n",
       "311    ListingContractDate                94             98  Property\n",
       "391             PostalCode                94             98  Property\n",
       "417              Longitude                94             98  Property\n",
       "416               Latitude                94             98  Property"
      ]
     },
     "execution_count": 8,
     "metadata": {},
     "output_type": "execute_result"
    }
   ],
   "source": [
    "df.sort_values('Org Usage (%)', ascending=False, inplace=True)\n",
    "\n",
    "df.head(10)"
   ]
  },
  {
   "cell_type": "code",
   "execution_count": null,
   "metadata": {},
   "outputs": [],
   "source": [
    "df.to_csv('../RESO Scraper/reso_field_usage.csv')"
   ]
  }
 ],
 "metadata": {
  "kernelspec": {
   "display_name": "base",
   "language": "python",
   "name": "python3"
  },
  "language_info": {
   "codemirror_mode": {
    "name": "ipython",
    "version": 3
   },
   "file_extension": ".py",
   "mimetype": "text/x-python",
   "name": "python",
   "nbconvert_exporter": "python",
   "pygments_lexer": "ipython3",
   "version": "3.11.4"
  },
  "orig_nbformat": 4
 },
 "nbformat": 4,
 "nbformat_minor": 2
}
